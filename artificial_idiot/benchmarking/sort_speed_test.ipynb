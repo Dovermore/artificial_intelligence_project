{
 "cells": [
  {
   "cell_type": "code",
   "execution_count": 26,
   "metadata": {},
   "outputs": [],
   "source": [
    "import random\n",
    "import math\n",
    "f = lambda x: math.sqrt(math.log(x)+1000-x*3)\n",
    "items = [(f(x), x) for x in range(1, 24)]\n",
    "random.shuffle(items)\n",
    "items\n",
    "set_it = set(items)"
   ]
  },
  {
   "cell_type": "code",
   "execution_count": 20,
   "metadata": {},
   "outputs": [],
   "source": [
    "import heapq"
   ]
  },
  {
   "cell_type": "code",
   "execution_count": 27,
   "metadata": {},
   "outputs": [
    {
     "name": "stdout",
     "output_type": "stream",
     "text": [
      "4.91 µs ± 942 ns per loop (mean ± std. dev. of 7 runs, 100000 loops each)\n",
      "3.7 µs ± 107 ns per loop (mean ± std. dev. of 7 runs, 100000 loops each)\n",
      "2.38 µs ± 216 ns per loop (mean ± std. dev. of 7 runs, 100000 loops each)\n"
     ]
    }
   ],
   "source": [
    "l = []\n",
    "%timeit for item in items: heapq.heappush(l, item)\n",
    "%timeit items1=[i for i in items]; items1.sort()\n",
    "%timeit sorted(set_it)"
   ]
  },
  {
   "cell_type": "code",
   "execution_count": null,
   "metadata": {},
   "outputs": [],
   "source": []
  }
 ],
 "metadata": {
  "kernelspec": {
   "display_name": "Python 3",
   "language": "python",
   "name": "python3"
  },
  "language_info": {
   "codemirror_mode": {
    "name": "ipython",
    "version": 3
   },
   "file_extension": ".py",
   "mimetype": "text/x-python",
   "name": "python",
   "nbconvert_exporter": "python",
   "pygments_lexer": "ipython3",
   "version": "3.6.8"
  }
 },
 "nbformat": 4,
 "nbformat_minor": 2
}
