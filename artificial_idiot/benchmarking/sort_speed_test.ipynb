{
 "cells": [
  {
   "cell_type": "code",
   "execution_count": 29,
   "metadata": {},
   "outputs": [],
   "source": [
    "import random\n",
    "import math\n",
    "f = lambda x: math.sqrt(math.log(x+10)+1000-x*3)\n",
    "items = [(f(x), x) for x in range(1, 24)]\n",
    "random.shuffle(items)\n",
    "items\n",
    "set_it = set(items)"
   ]
  },
  {
   "cell_type": "code",
   "execution_count": 20,
   "metadata": {},
   "outputs": [],
   "source": [
    "import heapq"
   ]
  },
  {
   "cell_type": "code",
   "execution_count": 27,
   "metadata": {},
   "outputs": [
    {
     "name": "stdout",
     "output_type": "stream",
     "text": [
      "4.91 µs ± 942 ns per loop (mean ± std. dev. of 7 runs, 100000 loops each)\n",
      "3.7 µs ± 107 ns per loop (mean ± std. dev. of 7 runs, 100000 loops each)\n",
      "2.38 µs ± 216 ns per loop (mean ± std. dev. of 7 runs, 100000 loops each)\n"
     ]
    }
   ],
   "source": [
    "l = []\n",
    "%timeit for item in items: heapq.heappush(l, item)\n",
    "%timeit items1=[i for i in items]; items1.sort()\n",
    "%timeit sorted(set_it)"
   ]
  },
  {
   "cell_type": "code",
   "execution_count": 32,
   "metadata": {},
   "outputs": [
    {
     "name": "stdout",
     "output_type": "stream",
     "text": [
      "8.41 µs ± 850 ns per loop (mean ± std. dev. of 7 runs, 100000 loops each)\n"
     ]
    }
   ],
   "source": [
    "vals = list(range(0,24))\n",
    "\n",
    "%timeit L=[f(x) for x in vals]; vals[L.index(max(L))]"
   ]
  },
  {
   "cell_type": "code",
   "execution_count": 33,
   "metadata": {},
   "outputs": [
    {
     "name": "stdout",
     "output_type": "stream",
     "text": [
      "10.1 µs ± 1.31 µs per loop (mean ± std. dev. of 7 runs, 100000 loops each)\n"
     ]
    }
   ],
   "source": [
    "%timeit sorted(vals, key=lambda x: f(x))[-1]"
   ]
  },
  {
   "cell_type": "code",
   "execution_count": 34,
   "metadata": {},
   "outputs": [
    {
     "name": "stdout",
     "output_type": "stream",
     "text": [
      "9.27 µs ± 1.45 µs per loop (mean ± std. dev. of 7 runs, 100000 loops each)\n"
     ]
    }
   ],
   "source": [
    "%timeit max([(f(x), x) for x in vals])[1]"
   ]
  },
  {
   "cell_type": "code",
   "execution_count": 36,
   "metadata": {},
   "outputs": [
    {
     "name": "stdout",
     "output_type": "stream",
     "text": [
      "14 µs ± 2.05 µs per loop (mean ± std. dev. of 7 runs, 100000 loops each)\n"
     ]
    }
   ],
   "source": [
    "L = [(f(x), x) for x in vals]\n",
    "%timeit random.shuffle(L)"
   ]
  },
  {
   "cell_type": "code",
   "execution_count": 41,
   "metadata": {},
   "outputs": [
    {
     "name": "stdout",
     "output_type": "stream",
     "text": [
      "[(31.52086530153418, 3), (31.240109458501685, 9), (31.567149168871552, 2), (30.714836763063907, 20), (31.474419094394978, 4), (31.659162735186065, 0), (31.00287170296242, 14), (30.763083327748316, 19), (31.28722377837152, 8), (30.6180622493129, 22), (31.19287951237516, 10), (30.955110657609804, 15), (30.85929093265113, 17), (31.613255056586603, 1), (31.050531303279325, 13), (31.381086480908206, 6), (31.145537761254396, 11), (30.907249902539395, 16), (30.569535612460104, 23), (31.09808744044171, 12), (30.666496167715103, 21), (31.427822867661423, 5), (31.33421793094661, 7), (30.811235037079822, 18)]\n"
     ]
    }
   ],
   "source": [
    "print(L)\n",
    "random.shuffle(L)"
   ]
  },
  {
   "cell_type": "code",
   "execution_count": 42,
   "metadata": {},
   "outputs": [
    {
     "data": {
      "text/plain": [
       "[(31.00287170296242, 14),\n",
       " (30.714836763063907, 20),\n",
       " (30.569535612460104, 23),\n",
       " (31.659162735186065, 0),\n",
       " (31.474419094394978, 4),\n",
       " (31.19287951237516, 10),\n",
       " (31.145537761254396, 11),\n",
       " (31.567149168871552, 2),\n",
       " (31.613255056586603, 1),\n",
       " (31.381086480908206, 6),\n",
       " (30.907249902539395, 16),\n",
       " (30.666496167715103, 21),\n",
       " (31.09808744044171, 12),\n",
       " (31.050531303279325, 13),\n",
       " (30.763083327748316, 19),\n",
       " (31.33421793094661, 7),\n",
       " (30.811235037079822, 18),\n",
       " (31.240109458501685, 9),\n",
       " (30.6180622493129, 22),\n",
       " (30.955110657609804, 15),\n",
       " (31.28722377837152, 8),\n",
       " (31.427822867661423, 5),\n",
       " (30.85929093265113, 17),\n",
       " (31.52086530153418, 3)]"
      ]
     },
     "execution_count": 42,
     "metadata": {},
     "output_type": "execute_result"
    }
   ],
   "source": [
    "L"
   ]
  },
  {
   "cell_type": "code",
   "execution_count": 47,
   "metadata": {},
   "outputs": [],
   "source": [
    "def f():\n",
    "    return\n",
    "    yield 1"
   ]
  },
  {
   "cell_type": "code",
   "execution_count": 48,
   "metadata": {},
   "outputs": [
    {
     "data": {
      "text/plain": [
       "[]"
      ]
     },
     "execution_count": 48,
     "metadata": {},
     "output_type": "execute_result"
    }
   ],
   "source": [
    "list(f())"
   ]
  },
  {
   "cell_type": "code",
   "execution_count": null,
   "metadata": {},
   "outputs": [],
   "source": []
  }
 ],
 "metadata": {
  "kernelspec": {
   "display_name": "Python 3",
   "language": "python",
   "name": "python3"
  },
  "language_info": {
   "codemirror_mode": {
    "name": "ipython",
    "version": 3
   },
   "file_extension": ".py",
   "mimetype": "text/x-python",
   "name": "python",
   "nbconvert_exporter": "python",
   "pygments_lexer": "ipython3",
   "version": "3.6.8"
  }
 },
 "nbformat": 4,
 "nbformat_minor": 2
}
