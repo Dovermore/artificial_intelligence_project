{
 "cells": [
  {
   "cell_type": "code",
   "execution_count": 4,
   "metadata": {},
   "outputs": [],
   "source": [
    "d1 = start_config = {\n",
    "        (-3, 0): \"red\",\n",
    "        (-3, 1): \"red\",\n",
    "        (-3, 2): \"red\",\n",
    "        (-3, 3): \"red\",\n",
    "        (0, -3): \"green\",\n",
    "        (1, -3): \"green\",\n",
    "        (2, -3): \"green\",\n",
    "        (3, -3): \"green\",\n",
    "        (0, 3): \"blue\",\n",
    "        (1, 2): \"blue\",\n",
    "        (2, 1): \"blue\",\n",
    "        (3, 0): \"blue\"\n",
    "    }\n",
    "d2 = start_config = {\n",
    "        (-3, 0): \"blue\",\n",
    "        (-3, 1): \"red\",\n",
    "        (-3, 2): \"red\",\n",
    "        (-3, 3): \"red\",\n",
    "        (0, -3): \"green\",\n",
    "        (1, -3): \"green\",\n",
    "        (2, -3): \"green\",\n",
    "        (3, -3): \"green\",\n",
    "        (0, 3): \"blue\",\n",
    "        (1, 2): \"blue\",\n",
    "        (2, 1): \"blue\",\n",
    "        (3, 0): \"red\"\n",
    "    }"
   ]
  },
  {
   "cell_type": "code",
   "execution_count": 5,
   "metadata": {},
   "outputs": [
    {
     "name": "stdout",
     "output_type": "stream",
     "text": [
      "666 ns ± 85.2 ns per loop (mean ± std. dev. of 7 runs, 1000000 loops each)\n",
      "867 ns ± 84.6 ns per loop (mean ± std. dev. of 7 runs, 1000000 loops each)\n",
      "651 ns ± 70.8 ns per loop (mean ± std. dev. of 7 runs, 1000000 loops each)\n",
      "810 ns ± 135 ns per loop (mean ± std. dev. of 7 runs, 1000000 loops each)\n"
     ]
    }
   ],
   "source": [
    "%timeit hash(frozenset(d1.keys()))\n",
    "%timeit hash(frozenset(d1.items()))\n",
    "%timeit hash(frozenset(d2.keys()))\n",
    "%timeit hash(frozenset(d2.items()))"
   ]
  },
  {
   "cell_type": "code",
   "execution_count": 6,
   "metadata": {},
   "outputs": [
    {
     "data": {
      "text/plain": [
       "(-5232276297500991319, -5232276297500991319)"
      ]
     },
     "execution_count": 6,
     "metadata": {},
     "output_type": "execute_result"
    }
   ],
   "source": [
    "hash(frozenset(d1.keys())), hash(frozenset(d2.keys()))"
   ]
  },
  {
   "cell_type": "code",
   "execution_count": 7,
   "metadata": {},
   "outputs": [
    {
     "data": {
      "text/plain": [
       "(9010516384412497610, -4395741297793365950)"
      ]
     },
     "execution_count": 7,
     "metadata": {},
     "output_type": "execute_result"
    }
   ],
   "source": [
    "hash(frozenset(d1.items())), hash(frozenset(d2.items()))"
   ]
  },
  {
   "cell_type": "code",
   "execution_count": null,
   "metadata": {},
   "outputs": [],
   "source": []
  }
 ],
 "metadata": {
  "kernelspec": {
   "display_name": "Python 3",
   "language": "python",
   "name": "python3"
  },
  "language_info": {
   "codemirror_mode": {
    "name": "ipython",
    "version": 3
   },
   "file_extension": ".py",
   "mimetype": "text/x-python",
   "name": "python",
   "nbconvert_exporter": "python",
   "pygments_lexer": "ipython3",
   "version": "3.6.8"
  }
 },
 "nbformat": 4,
 "nbformat_minor": 2
}
||||||| merged common ancestors
=======
{
 "cells": [
  {
   "cell_type": "code",
   "execution_count": 4,
   "metadata": {},
   "outputs": [],
   "source": [
    "d1 = start_config = {\n",
    "        (-3, 0): \"red\",\n",
    "        (-3, 1): \"red\",\n",
    "        (-3, 2): \"red\",\n",
    "        (-3, 3): \"red\",\n",
    "        (0, -3): \"green\",\n",
    "        (1, -3): \"green\",\n",
    "        (2, -3): \"green\",\n",
    "        (3, -3): \"green\",\n",
    "        (0, 3): \"blue\",\n",
    "        (1, 2): \"blue\",\n",
    "        (2, 1): \"blue\",\n",
    "        (3, 0): \"blue\"\n",
    "    }\n",
    "d2 = start_config = {\n",
    "        (-3, 0): \"blue\",\n",
    "        (-3, 1): \"red\",\n",
    "        (-3, 2): \"red\",\n",
    "        (-3, 3): \"red\",\n",
    "        (0, -3): \"green\",\n",
    "        (1, -3): \"green\",\n",
    "        (2, -3): \"green\",\n",
    "        (3, -3): \"green\",\n",
    "        (0, 3): \"blue\",\n",
    "        (1, 2): \"blue\",\n",
    "        (2, 1): \"blue\",\n",
    "        (3, 0): \"red\"\n",
    "    }"
   ]
  },
  {
   "cell_type": "code",
   "execution_count": 5,
   "metadata": {},
   "outputs": [
    {
     "name": "stdout",
     "output_type": "stream",
     "text": [
      "666 ns ± 85.2 ns per loop (mean ± std. dev. of 7 runs, 1000000 loops each)\n",
      "867 ns ± 84.6 ns per loop (mean ± std. dev. of 7 runs, 1000000 loops each)\n",
      "651 ns ± 70.8 ns per loop (mean ± std. dev. of 7 runs, 1000000 loops each)\n",
      "810 ns ± 135 ns per loop (mean ± std. dev. of 7 runs, 1000000 loops each)\n"
     ]
    }
   ],
   "source": [
    "%timeit hash(frozenset(d1.keys()))\n",
    "%timeit hash(frozenset(d1.items()))\n",
    "%timeit hash(frozenset(d2.keys()))\n",
    "%timeit hash(frozenset(d2.items()))"
   ]
  },
  {
   "cell_type": "code",
   "execution_count": 6,
   "metadata": {},
   "outputs": [
    {
     "data": {
      "text/plain": [
       "(-5232276297500991319, -5232276297500991319)"
      ]
     },
     "execution_count": 6,
     "metadata": {},
     "output_type": "execute_result"
    }
   ],
   "source": [
    "hash(frozenset(d1.keys())), hash(frozenset(d2.keys()))"
   ]
  },
  {
   "cell_type": "code",
   "execution_count": 7,
   "metadata": {},
   "outputs": [
    {
     "data": {
      "text/plain": [
       "(9010516384412497610, -4395741297793365950)"
      ]
     },
     "execution_count": 7,
     "metadata": {},
     "output_type": "execute_result"
    }
   ],
   "source": [
    "hash(frozenset(d1.items())), hash(frozenset(d2.items()))"
   ]
  },
  {
   "cell_type": "code",
   "execution_count": null,
   "metadata": {},
   "outputs": [],
   "source": []
  }
 ],
 "metadata": {
  "kernelspec": {
   "display_name": "Python 3",
   "language": "python",
   "name": "python3"
  },
  "language_info": {
   "codemirror_mode": {
    "name": "ipython",
    "version": 3
   },
   "file_extension": ".py",
   "mimetype": "text/x-python",
   "name": "python",
   "nbconvert_exporter": "python",
   "pygments_lexer": "ipython3",
   "version": "3.6.8"
  }
 },
 "nbformat": 4,
 "nbformat_minor": 2
}
