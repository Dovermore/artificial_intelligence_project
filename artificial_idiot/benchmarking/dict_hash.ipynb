{
 "cells": [
  {
   "cell_type": "code",
   "execution_count": 1,
   "metadata": {},
   "outputs": [],
   "source": [
    "d1 = start_config = {\n",
    "        (-3, 0): \"red\",\n",
    "        (-3, 1): \"red\",\n",
    "        (-3, 2): \"red\",\n",
    "        (-3, 3): \"red\",\n",
    "        (0, -3): \"green\",\n",
    "        (1, -3): \"green\",\n",
    "        (2, -3): \"green\",\n",
    "        (3, -3): \"green\",\n",
    "        (0, 3): \"blue\",\n",
    "        (1, 2): \"blue\",\n",
    "        (2, 1): \"blue\",\n",
    "        (3, 0): \"blue\"\n",
    "    }\n",
    "d2 = start_config = {\n",
    "        (-3, 0): \"blue\",\n",
    "        (-3, 1): \"red\",\n",
    "        (-3, 2): \"red\",\n",
    "        (-3, 3): \"red\",\n",
    "        (0, -3): \"green\",\n",
    "        (1, -3): \"green\",\n",
    "        (2, -3): \"green\",\n",
    "        (3, -3): \"green\",\n",
    "        (0, 3): \"blue\",\n",
    "        (1, 2): \"blue\",\n",
    "        (2, 1): \"blue\",\n",
    "        (3, 0): \"red\"\n",
    "    }"
   ]
  },
  {
   "cell_type": "code",
   "execution_count": 2,
   "metadata": {},
   "outputs": [
    {
     "name": "stdout",
     "output_type": "stream",
     "text": [
      "705 ns ± 80.2 ns per loop (mean ± std. dev. of 7 runs, 1000000 loops each)\n",
      "796 ns ± 120 ns per loop (mean ± std. dev. of 7 runs, 1000000 loops each)\n",
      "607 ns ± 103 ns per loop (mean ± std. dev. of 7 runs, 1000000 loops each)\n",
      "922 ns ± 64.8 ns per loop (mean ± std. dev. of 7 runs, 1000000 loops each)\n"
     ]
    }
   ],
   "source": [
    "%timeit hash(frozenset(d1.keys()))\n",
    "%timeit hash(frozenset(d1.items()))\n",
    "%timeit hash(frozenset(d2.keys()))\n",
    "%timeit hash(frozenset(d2.items()))"
   ]
  },
  {
   "cell_type": "code",
   "execution_count": 3,
   "metadata": {},
   "outputs": [
    {
     "data": {
      "text/plain": [
       "(-5232276297500991319, -5232276297500991319)"
      ]
     },
     "execution_count": 3,
     "metadata": {},
     "output_type": "execute_result"
    }
   ],
   "source": [
    "hash(frozenset(d1.keys())), hash(frozenset(d2.keys()))"
   ]
  },
  {
   "cell_type": "code",
   "execution_count": 4,
   "metadata": {},
   "outputs": [
    {
     "data": {
      "text/plain": [
       "(-9156331499688441761, 1370067535727765096)"
      ]
     },
     "execution_count": 4,
     "metadata": {},
     "output_type": "execute_result"
    }
   ],
   "source": [
    "hash(frozenset(d1.items())), hash(frozenset(d2.items()))"
   ]
  },
  {
   "cell_type": "code",
   "execution_count": 5,
   "metadata": {},
   "outputs": [],
   "source": [
    "import numpy as np\n",
    "import math"
   ]
  },
  {
   "cell_type": "code",
   "execution_count": 6,
   "metadata": {},
   "outputs": [
    {
     "name": "stdout",
     "output_type": "stream",
     "text": [
      "930 ns ± 116 ns per loop (mean ± std. dev. of 7 runs, 1000000 loops each)\n",
      "87.7 ns ± 10.3 ns per loop (mean ± std. dev. of 7 runs, 10000000 loops each)\n"
     ]
    }
   ],
   "source": [
    "%timeit np.sqrt(1234)\n",
    "%timeit math.sqrt(1234)"
   ]
  },
  {
   "cell_type": "code",
   "execution_count": 7,
   "metadata": {},
   "outputs": [
    {
     "name": "stdout",
     "output_type": "stream",
     "text": [
      "982 ns ± 80.9 ns per loop (mean ± std. dev. of 7 runs, 1000000 loops each)\n",
      "112 ns ± 12.1 ns per loop (mean ± std. dev. of 7 runs, 10000000 loops each)\n"
     ]
    }
   ],
   "source": [
    "%timeit np.log(1234)\n",
    "%timeit math.log(1234)"
   ]
  },
  {
   "cell_type": "code",
   "execution_count": null,
   "metadata": {},
   "outputs": [],
   "source": []
  }
 ],
 "metadata": {
  "kernelspec": {
   "display_name": "Python 3",
   "language": "python",
   "name": "python3"
  },
  "language_info": {
   "codemirror_mode": {
    "name": "ipython",
    "version": 3
   },
   "file_extension": ".py",
   "mimetype": "text/x-python",
   "name": "python",
   "nbconvert_exporter": "python",
   "pygments_lexer": "ipython3",
   "version": "3.6.8"
  }
 },
 "nbformat": 4,
 "nbformat_minor": 2
}
