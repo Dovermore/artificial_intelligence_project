{
 "cells": [
  {
   "cell_type": "code",
   "execution_count": 1,
   "metadata": {},
   "outputs": [],
   "source": [
    "d = start_config = {\n",
    "        (-3, 0): \"red\",\n",
    "        (-3, 1): \"red\",\n",
    "        (-3, 2): \"red\",\n",
    "        (-3, 3): \"red\",\n",
    "        (0, -3): \"green\",\n",
    "        (1, -3): \"green\",\n",
    "        (2, -3): \"green\",\n",
    "        (3, -3): \"green\",\n",
    "        (0, 3): \"blue\",\n",
    "        (1, 2): \"blue\",\n",
    "        (2, 1): \"blue\",\n",
    "        (3, 0): \"blue\"\n",
    "    }"
   ]
  },
  {
   "cell_type": "code",
   "execution_count": 3,
   "metadata": {},
   "outputs": [
    {
     "name": "stdout",
     "output_type": "stream",
     "text": [
      "547 ns ± 83.1 ns per loop (mean ± std. dev. of 7 runs, 1000000 loops each)\n",
      "897 ns ± 44.3 ns per loop (mean ± std. dev. of 7 runs, 1000000 loops each)\n"
     ]
    }
   ],
   "source": [
    "%timeit hash(frozenset(d.keys()))\n",
    "%timeit hash(frozenset(d.items()))"
   ]
  },
  {
   "cell_type": "code",
   "execution_count": null,
   "metadata": {},
   "outputs": [],
   "source": []
  }
 ],
 "metadata": {
  "kernelspec": {
   "display_name": "Python 3",
   "language": "python",
   "name": "python3"
  },
  "language_info": {
   "codemirror_mode": {
    "name": "ipython",
    "version": 3
   },
   "file_extension": ".py",
   "mimetype": "text/x-python",
   "name": "python",
   "nbconvert_exporter": "python",
   "pygments_lexer": "ipython3",
   "version": "3.6.8"
  }
 },
 "nbformat": 4,
 "nbformat_minor": 2
}
