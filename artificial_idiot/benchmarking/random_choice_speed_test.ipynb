{
 "cells": [
  {
   "cell_type": "code",
   "execution_count": 2,
   "metadata": {},
   "outputs": [],
   "source": [
    "import numpy as np\n",
    "import random"
   ]
  },
  {
   "cell_type": "code",
   "execution_count": 17,
   "metadata": {},
   "outputs": [
    {
     "name": "stdout",
     "output_type": "stream",
     "text": [
      "205 ns ± 14.3 ns per loop (mean ± std. dev. of 7 runs, 1000000 loops each)\n"
     ]
    }
   ],
   "source": [
    "%timeit random.getrandbits(20)%24"
   ]
  },
  {
   "cell_type": "code",
   "execution_count": 8,
   "metadata": {},
   "outputs": [
    {
     "name": "stdout",
     "output_type": "stream",
     "text": [
      "228 ns ± 35.8 ns per loop (mean ± std. dev. of 7 runs, 1000000 loops each)\n",
      "138 ns ± 18.9 ns per loop (mean ± std. dev. of 7 runs, 10000000 loops each)\n",
      "1.94 µs ± 208 ns per loop (mean ± std. dev. of 7 runs, 1000000 loops each)\n",
      "1.07 µs ± 151 ns per loop (mean ± std. dev. of 7 runs, 1000000 loops each)\n"
     ]
    }
   ],
   "source": [
    "%timeit int(24 * random.random())\n",
    "%timeit random.getrandbits(4)%24\n",
    "%timeit np.random.choice(24)\n",
    "%timeit np.random.randint(24)"
   ]
  },
  {
   "cell_type": "code",
   "execution_count": 4,
   "metadata": {},
   "outputs": [
    {
     "data": {
      "text/plain": [
       "(2, 14, 7, 20)"
      ]
     },
     "execution_count": 4,
     "metadata": {},
     "output_type": "execute_result"
    }
   ],
   "source": [
    "random.getrandbits(5)%24, int(random.random() * 24), np.random.randint(24), np.random.choice(24)"
   ]
  },
  {
   "cell_type": "code",
   "execution_count": 24,
   "metadata": {},
   "outputs": [
    {
     "name": "stdout",
     "output_type": "stream",
     "text": [
      "1\n",
      "1\n",
      "1\n",
      "1\n",
      "3\n",
      "3\n",
      "2\n"
     ]
    },
    {
     "data": {
      "text/plain": [
       "{1, 2, 3}"
      ]
     },
     "execution_count": 24,
     "metadata": {},
     "output_type": "execute_result"
    }
   ],
   "source": [
    "lo = 1\n",
    "hi = 4\n",
    "n = 0\n",
    "s = set()\n",
    "while not len(s) or lo <= max(s) < hi and len(s) != hi - lo:\n",
    "    n = random.getrandbits(10) % (hi - lo) + lo\n",
    "    print(n)\n",
    "    s.add(n)\n",
    "s"
   ]
  },
  {
   "cell_type": "code",
   "execution_count": 20,
   "metadata": {},
   "outputs": [
    {
     "name": "stdout",
     "output_type": "stream",
     "text": [
      "20\n",
      "19\n",
      "14\n",
      "5\n",
      "9\n",
      "23\n",
      "18\n",
      "4\n",
      "6\n",
      "21\n",
      "1\n",
      "0\n",
      "3\n",
      "9\n",
      "5\n",
      "15\n",
      "5\n",
      "7\n",
      "16\n",
      "12\n",
      "7\n",
      "0\n",
      "9\n",
      "9\n",
      "18\n",
      "2\n",
      "9\n",
      "17\n",
      "5\n",
      "20\n",
      "15\n",
      "12\n",
      "12\n",
      "15\n",
      "13\n",
      "6\n",
      "1\n",
      "9\n",
      "2\n",
      "23\n",
      "9\n",
      "4\n",
      "12\n",
      "1\n",
      "1\n",
      "17\n",
      "18\n",
      "11\n",
      "9\n",
      "13\n",
      "14\n",
      "0\n",
      "10\n",
      "10\n",
      "7\n",
      "12\n",
      "1\n",
      "11\n",
      "8\n",
      "23\n",
      "1\n",
      "23\n",
      "19\n",
      "21\n",
      "17\n",
      "1\n",
      "0\n",
      "2\n",
      "13\n",
      "19\n",
      "12\n",
      "8\n",
      "23\n",
      "20\n",
      "19\n",
      "17\n",
      "1\n",
      "3\n",
      "0\n",
      "3\n",
      "19\n",
      "5\n",
      "18\n",
      "10\n",
      "8\n",
      "11\n",
      "14\n",
      "3\n",
      "14\n",
      "14\n",
      "15\n",
      "3\n",
      "2\n",
      "12\n",
      "23\n",
      "4\n",
      "7\n",
      "23\n",
      "16\n",
      "20\n",
      "12\n",
      "15\n",
      "21\n",
      "18\n",
      "9\n",
      "12\n",
      "17\n",
      "10\n",
      "17\n",
      "23\n",
      "16\n",
      "5\n",
      "22\n"
     ]
    },
    {
     "data": {
      "text/plain": [
       "{-1,\n",
       " 0,\n",
       " 1,\n",
       " 2,\n",
       " 3,\n",
       " 4,\n",
       " 5,\n",
       " 6,\n",
       " 7,\n",
       " 8,\n",
       " 9,\n",
       " 10,\n",
       " 11,\n",
       " 12,\n",
       " 13,\n",
       " 14,\n",
       " 15,\n",
       " 16,\n",
       " 17,\n",
       " 18,\n",
       " 19,\n",
       " 20,\n",
       " 21,\n",
       " 22,\n",
       " 23}"
      ]
     },
     "execution_count": 20,
     "metadata": {},
     "output_type": "execute_result"
    }
   ],
   "source": [
    "n = 0\n",
    "s = set()\n",
    "s.add(-1)\n",
    "while -1 <= max(s) < 24 and len(s) != 25 and n != -1:\n",
    "    n = int(random.random() * 24)\n",
    "    print(n)\n",
    "    s.add(n)\n",
    "s"
   ]
  },
  {
   "cell_type": "code",
   "execution_count": 9,
   "metadata": {},
   "outputs": [
    {
     "data": {
      "text/plain": [
       "{-1,\n",
       " 0,\n",
       " 1,\n",
       " 2,\n",
       " 3,\n",
       " 4,\n",
       " 5,\n",
       " 6,\n",
       " 7,\n",
       " 8,\n",
       " 9,\n",
       " 10,\n",
       " 11,\n",
       " 12,\n",
       " 13,\n",
       " 14,\n",
       " 15,\n",
       " 17,\n",
       " 18,\n",
       " 19,\n",
       " 20,\n",
       " 21,\n",
       " 22,\n",
       " 23}"
      ]
     },
     "execution_count": 9,
     "metadata": {},
     "output_type": "execute_result"
    }
   ],
   "source": []
  },
  {
   "cell_type": "code",
   "execution_count": null,
   "metadata": {},
   "outputs": [],
   "source": []
  }
 ],
 "metadata": {
  "kernelspec": {
   "display_name": "Python 3",
   "language": "python",
   "name": "python3"
  },
  "language_info": {
   "codemirror_mode": {
    "name": "ipython",
    "version": 3
   },
   "file_extension": ".py",
   "mimetype": "text/x-python",
   "name": "python",
   "nbconvert_exporter": "python",
   "pygments_lexer": "ipython3",
   "version": "3.7.3"
  }
 },
 "nbformat": 4,
 "nbformat_minor": 2
}
